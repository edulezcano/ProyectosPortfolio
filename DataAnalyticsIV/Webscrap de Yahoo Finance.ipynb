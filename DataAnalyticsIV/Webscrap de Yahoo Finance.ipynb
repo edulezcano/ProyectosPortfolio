{
 "cells": [
  {
   "cell_type": "markdown",
   "id": "74966288",
   "metadata": {
    "tags": []
   },
   "source": [
    "# Configuración inicial\n",
    "\n",
    "Instalamos las librerías que vamos a utilizar"
   ]
  },
  {
   "cell_type": "code",
   "execution_count": 54,
   "id": "028cc630",
   "metadata": {},
   "outputs": [
    {
     "name": "stdout",
     "output_type": "stream",
     "text": [
      "Setup Complete\n"
     ]
    }
   ],
   "source": [
    "import pandas as pd\n",
    "import yfinance as yf\n",
    "import matplotlib as plt\n",
    "from datetime import date\n",
    "\n",
    "print ('Setup Complete')"
   ]
  },
  {
   "cell_type": "code",
   "execution_count": 55,
   "id": "d4d1a4f3",
   "metadata": {},
   "outputs": [
    {
     "data": {
      "text/html": [
       "<div>\n",
       "<style scoped>\n",
       "    .dataframe tbody tr th:only-of-type {\n",
       "        vertical-align: middle;\n",
       "    }\n",
       "\n",
       "    .dataframe tbody tr th {\n",
       "        vertical-align: top;\n",
       "    }\n",
       "\n",
       "    .dataframe thead th {\n",
       "        text-align: right;\n",
       "    }\n",
       "</style>\n",
       "<table border=\"1\" class=\"dataframe\">\n",
       "  <thead>\n",
       "    <tr style=\"text-align: right;\">\n",
       "      <th></th>\n",
       "      <th>Open</th>\n",
       "      <th>High</th>\n",
       "      <th>Low</th>\n",
       "      <th>Close</th>\n",
       "      <th>Adj Close</th>\n",
       "      <th>Volume</th>\n",
       "    </tr>\n",
       "    <tr>\n",
       "      <th>Date</th>\n",
       "      <th></th>\n",
       "      <th></th>\n",
       "      <th></th>\n",
       "      <th></th>\n",
       "      <th></th>\n",
       "      <th></th>\n",
       "    </tr>\n",
       "  </thead>\n",
       "  <tbody>\n",
       "    <tr>\n",
       "      <th>2021-03-15</th>\n",
       "      <td>121.410004</td>\n",
       "      <td>124.000000</td>\n",
       "      <td>120.419998</td>\n",
       "      <td>123.989998</td>\n",
       "      <td>123.257416</td>\n",
       "      <td>92403800</td>\n",
       "    </tr>\n",
       "    <tr>\n",
       "      <th>2021-03-16</th>\n",
       "      <td>125.699997</td>\n",
       "      <td>127.220001</td>\n",
       "      <td>124.720001</td>\n",
       "      <td>125.570000</td>\n",
       "      <td>124.828079</td>\n",
       "      <td>115227900</td>\n",
       "    </tr>\n",
       "    <tr>\n",
       "      <th>2021-03-17</th>\n",
       "      <td>124.050003</td>\n",
       "      <td>125.860001</td>\n",
       "      <td>122.339996</td>\n",
       "      <td>124.760002</td>\n",
       "      <td>124.022873</td>\n",
       "      <td>111932600</td>\n",
       "    </tr>\n",
       "    <tr>\n",
       "      <th>2021-03-18</th>\n",
       "      <td>122.879997</td>\n",
       "      <td>123.180000</td>\n",
       "      <td>120.320000</td>\n",
       "      <td>120.529999</td>\n",
       "      <td>119.817863</td>\n",
       "      <td>121229700</td>\n",
       "    </tr>\n",
       "    <tr>\n",
       "      <th>2021-03-19</th>\n",
       "      <td>119.900002</td>\n",
       "      <td>121.430000</td>\n",
       "      <td>119.680000</td>\n",
       "      <td>119.989998</td>\n",
       "      <td>119.281052</td>\n",
       "      <td>185549500</td>\n",
       "    </tr>\n",
       "  </tbody>\n",
       "</table>\n",
       "</div>"
      ],
      "text/plain": [
       "                  Open        High         Low       Close   Adj Close  \\\n",
       "Date                                                                     \n",
       "2021-03-15  121.410004  124.000000  120.419998  123.989998  123.257416   \n",
       "2021-03-16  125.699997  127.220001  124.720001  125.570000  124.828079   \n",
       "2021-03-17  124.050003  125.860001  122.339996  124.760002  124.022873   \n",
       "2021-03-18  122.879997  123.180000  120.320000  120.529999  119.817863   \n",
       "2021-03-19  119.900002  121.430000  119.680000  119.989998  119.281052   \n",
       "\n",
       "               Volume  \n",
       "Date                   \n",
       "2021-03-15   92403800  \n",
       "2021-03-16  115227900  \n",
       "2021-03-17  111932600  \n",
       "2021-03-18  121229700  \n",
       "2021-03-19  185549500  "
      ]
     },
     "execution_count": 55,
     "metadata": {},
     "output_type": "execute_result"
    }
   ],
   "source": [
    "end = date.today()\n",
    "start = date(end.year - 1, end.month, end.day)\n",
    "\n",
    "aapl_df = yf.download('AAPL', \n",
    "                      start, \n",
    "                      end, \n",
    "                      progress=False,\n",
    ")\n",
    "aapl_df.head()"
   ]
  },
  {
   "cell_type": "code",
   "execution_count": 56,
   "id": "b7b034b1",
   "metadata": {},
   "outputs": [
    {
     "data": {
      "text/html": [
       "<div>\n",
       "<style scoped>\n",
       "    .dataframe tbody tr th:only-of-type {\n",
       "        vertical-align: middle;\n",
       "    }\n",
       "\n",
       "    .dataframe tbody tr th {\n",
       "        vertical-align: top;\n",
       "    }\n",
       "\n",
       "    .dataframe thead th {\n",
       "        text-align: right;\n",
       "    }\n",
       "</style>\n",
       "<table border=\"1\" class=\"dataframe\">\n",
       "  <thead>\n",
       "    <tr style=\"text-align: right;\">\n",
       "      <th></th>\n",
       "      <th>Open</th>\n",
       "      <th>High</th>\n",
       "      <th>Low</th>\n",
       "      <th>Close</th>\n",
       "      <th>Adj Close</th>\n",
       "      <th>Volume</th>\n",
       "    </tr>\n",
       "    <tr>\n",
       "      <th>Date</th>\n",
       "      <th></th>\n",
       "      <th></th>\n",
       "      <th></th>\n",
       "      <th></th>\n",
       "      <th></th>\n",
       "      <th></th>\n",
       "    </tr>\n",
       "  </thead>\n",
       "  <tbody>\n",
       "    <tr>\n",
       "      <th>2022-03-08</th>\n",
       "      <td>158.820007</td>\n",
       "      <td>162.880005</td>\n",
       "      <td>155.800003</td>\n",
       "      <td>157.440002</td>\n",
       "      <td>157.440002</td>\n",
       "      <td>131148300</td>\n",
       "    </tr>\n",
       "    <tr>\n",
       "      <th>2022-03-09</th>\n",
       "      <td>161.479996</td>\n",
       "      <td>163.410004</td>\n",
       "      <td>159.410004</td>\n",
       "      <td>162.949997</td>\n",
       "      <td>162.949997</td>\n",
       "      <td>91454900</td>\n",
       "    </tr>\n",
       "    <tr>\n",
       "      <th>2022-03-10</th>\n",
       "      <td>160.199997</td>\n",
       "      <td>160.389999</td>\n",
       "      <td>155.979996</td>\n",
       "      <td>158.520004</td>\n",
       "      <td>158.520004</td>\n",
       "      <td>105342000</td>\n",
       "    </tr>\n",
       "    <tr>\n",
       "      <th>2022-03-11</th>\n",
       "      <td>158.929993</td>\n",
       "      <td>159.279999</td>\n",
       "      <td>154.500000</td>\n",
       "      <td>154.729996</td>\n",
       "      <td>154.729996</td>\n",
       "      <td>96836300</td>\n",
       "    </tr>\n",
       "    <tr>\n",
       "      <th>2022-03-14</th>\n",
       "      <td>151.449997</td>\n",
       "      <td>154.119995</td>\n",
       "      <td>150.100006</td>\n",
       "      <td>150.619995</td>\n",
       "      <td>150.619995</td>\n",
       "      <td>108515100</td>\n",
       "    </tr>\n",
       "  </tbody>\n",
       "</table>\n",
       "</div>"
      ],
      "text/plain": [
       "                  Open        High         Low       Close   Adj Close  \\\n",
       "Date                                                                     \n",
       "2022-03-08  158.820007  162.880005  155.800003  157.440002  157.440002   \n",
       "2022-03-09  161.479996  163.410004  159.410004  162.949997  162.949997   \n",
       "2022-03-10  160.199997  160.389999  155.979996  158.520004  158.520004   \n",
       "2022-03-11  158.929993  159.279999  154.500000  154.729996  154.729996   \n",
       "2022-03-14  151.449997  154.119995  150.100006  150.619995  150.619995   \n",
       "\n",
       "               Volume  \n",
       "Date                   \n",
       "2022-03-08  131148300  \n",
       "2022-03-09   91454900  \n",
       "2022-03-10  105342000  \n",
       "2022-03-11   96836300  \n",
       "2022-03-14  108515100  "
      ]
     },
     "execution_count": 56,
     "metadata": {},
     "output_type": "execute_result"
    }
   ],
   "source": [
    "aapl_df.tail()"
   ]
  },
  {
   "cell_type": "code",
   "execution_count": 57,
   "id": "3c0ed582",
   "metadata": {},
   "outputs": [
    {
     "name": "stdout",
     "output_type": "stream",
     "text": [
      "[*********************100%***********************]  1 of 1 completed\n",
      "[*********************100%***********************]  1 of 1 completed\n",
      "[*********************100%***********************]  1 of 1 completed\n",
      "[*********************100%***********************]  1 of 1 completed\n",
      "[*********************100%***********************]  1 of 1 completed\n",
      "[*********************100%***********************]  1 of 1 completed\n",
      "[*********************100%***********************]  1 of 1 completed\n",
      "[*********************100%***********************]  1 of 1 completed\n",
      "[*********************100%***********************]  1 of 1 completed\n",
      "[*********************100%***********************]  1 of 1 completed\n"
     ]
    }
   ],
   "source": [
    "# Acá descargamos nuestros datos por cada ticker\n",
    "tickerStrings = ['AAPL', 'GOOG', 'MSFT', 'AMZN','TSLA','NVDA','FB','INTC','BABA','PYPL']\n",
    "df_list = list()\n",
    "for ticker in tickerStrings:\n",
    "    data = yf.download(ticker, group_by=\"Ticker\", period='1mo')\n",
    "    data['ticker'] = ticker  # agregamos la columna con el nombre del ticker\n",
    "    df_list.append(data)"
   ]
  },
  {
   "cell_type": "code",
   "execution_count": 58,
   "id": "2949fdcf-db87-4a0b-a4bb-da41cd1fe557",
   "metadata": {
    "jupyter": {
     "source_hidden": true
    },
    "tags": []
   },
   "outputs": [],
   "source": [
    "# combinamos los dataframes en uno solo\n",
    "df = pd.concat(df_list)"
   ]
  },
  {
   "cell_type": "code",
   "execution_count": 59,
   "id": "2fe4c564-6f3d-4d1b-beef-821565ed1438",
   "metadata": {},
   "outputs": [],
   "source": [
    "# convertimos a csv\n",
    "df.to_csv('ticker.csv')"
   ]
  },
  {
   "cell_type": "markdown",
   "id": "2088a096-4ae0-4cf7-b940-39f1b872e5ad",
   "metadata": {},
   "source": [
    "Creamos una tabla dimensional con los nombres de las empresas"
   ]
  },
  {
   "cell_type": "code",
   "execution_count": 60,
   "id": "e6799aab-f64a-41d2-9775-1836e300807c",
   "metadata": {},
   "outputs": [
    {
     "name": "stdout",
     "output_type": "stream",
     "text": [
      "  Ticker    Empresa\n",
      "0   AAPL      Apple\n",
      "1   GOOG     Google\n",
      "2   MSFT  Microsoft\n",
      "3   AMZN     Amazon\n",
      "4   TSLA      Tesla\n",
      "5   NVDA     NVIDIA\n",
      "6     FB       Meta\n",
      "7   INTC      Intel\n",
      "8   BABA    Alibaba\n",
      "9   PYPL     Paypal\n"
     ]
    }
   ],
   "source": [
    "company_list = ['AAPL', 'GOOG', 'MSFT', 'AMZN','TSLA','NVDA','FB','INTC','BABA','PYPL']\n",
    "company_name = [\"Apple\",\"Google\",\"Microsoft\",\"Amazon\",\"Tesla\",\"NVIDIA\",\"Meta\",\"Intel\",\"Alibaba\",\"Paypal\"]\n",
    "df_names = pd.DataFrame(zip(company_list,company_name))\n",
    "df_names.columns = [\"Ticker\",\"Empresa\"]\n",
    "    \n",
    "print(df_names)"
   ]
  },
  {
   "cell_type": "code",
   "execution_count": 61,
   "id": "621d1e50-1e3c-4b7f-ae4b-91b7808cf89a",
   "metadata": {},
   "outputs": [],
   "source": [
    "df_names.to_csv('empresas.csv')"
   ]
  }
 ],
 "metadata": {
  "kernelspec": {
   "display_name": "Python 3 (ipykernel)",
   "language": "python",
   "name": "python3"
  },
  "language_info": {
   "codemirror_mode": {
    "name": "ipython",
    "version": 3
   },
   "file_extension": ".py",
   "mimetype": "text/x-python",
   "name": "python",
   "nbconvert_exporter": "python",
   "pygments_lexer": "ipython3",
   "version": "3.9.0"
  }
 },
 "nbformat": 4,
 "nbformat_minor": 5
}
